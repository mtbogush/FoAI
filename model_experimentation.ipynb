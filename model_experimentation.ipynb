{
 "cells": [
  {
   "cell_type": "markdown",
   "metadata": {},
   "source": [
    "# Phase 1/3: Team Assignment"
   ]
  },
  {
   "cell_type": "markdown",
   "metadata": {},
   "source": [
    "## Step 0: Import Packages"
   ]
  },
  {
   "cell_type": "code",
   "execution_count": 89,
   "metadata": {},
   "outputs": [],
   "source": [
    "# Import essential libraries\n",
    "import numpy as np\n",
    "import pandas as pd\n",
    "from sklearn.preprocessing import MinMaxScaler\n",
    "from tensorflow.keras.models import Sequential\n",
    "from tensorflow.keras.layers import LSTM, Dense, GRU\n",
    "from sklearn.metrics import mean_absolute_error, mean_squared_error, r2_score\n",
    "import matplotlib.pyplot as plt\n",
    "import joblib\n",
    "import kfp\n",
    "from kfp import dsl\n",
    "import h5py"
   ]
  },
  {
   "cell_type": "markdown",
   "metadata": {},
   "source": [
    "## Step 1: Import Data"
   ]
  },
  {
   "cell_type": "code",
   "execution_count": 90,
   "metadata": {},
   "outputs": [
    {
     "name": "stdout",
     "output_type": "stream",
     "text": [
      "Keys inside 'df' group: ['axis0', 'axis1', 'block0_items', 'block0_values']\n"
     ]
    }
   ],
   "source": [
    "# Load and inspect the contents of the 'df' group\n",
    "def load_data():\n",
    "    with h5py.File('metr-la.h5', 'r') as f:\n",
    "        df_group = f['df']\n",
    "        \n",
    "        # List all keys within the 'df' group\n",
    "        print(\"Keys inside 'df' group:\", list(df_group.keys()))\n",
    "        \n",
    "        # You can then load individual datasets once you know the keys\n",
    "        # For example, if a key 'data' exists:\n",
    "        if 'data' in df_group:\n",
    "            data = df_group['data'][:]\n",
    "            print(\"Loaded data shape:\", data.shape)\n",
    "        return df_group\n",
    "\n",
    "# Inspect the 'df' group\n",
    "df_group = load_data()"
   ]
  },
  {
   "cell_type": "code",
   "execution_count": 91,
   "metadata": {},
   "outputs": [
    {
     "name": "stdout",
     "output_type": "stream",
     "text": [
      "Data shape: (34272, 207)\n"
     ]
    }
   ],
   "source": [
    "# Load and reconstruct the DataFrame from the 'df' group\n",
    "def load_data():\n",
    "    with h5py.File('metr-la.h5', 'r') as f:\n",
    "        df_group = f['df']\n",
    "        \n",
    "        # Load the column names (features) from 'block0_items'\n",
    "        columns = list(df_group['block0_items'][:].astype(str))\n",
    "        \n",
    "        # Load the actual data from 'block0_values'\n",
    "        data = df_group['block0_values'][:]\n",
    "        \n",
    "        # Convert the data into a DataFrame\n",
    "        df = pd.DataFrame(data, columns=columns)\n",
    "        \n",
    "        return df\n",
    "\n",
    "# Load the data and inspect the first few rows\n",
    "df = load_data()\n",
    "print(\"Data shape:\", df.shape)"
   ]
  },
  {
   "cell_type": "code",
   "execution_count": 92,
   "metadata": {},
   "outputs": [
    {
     "data": {
      "text/html": [
       "<div>\n",
       "<style scoped>\n",
       "    .dataframe tbody tr th:only-of-type {\n",
       "        vertical-align: middle;\n",
       "    }\n",
       "\n",
       "    .dataframe tbody tr th {\n",
       "        vertical-align: top;\n",
       "    }\n",
       "\n",
       "    .dataframe thead th {\n",
       "        text-align: right;\n",
       "    }\n",
       "</style>\n",
       "<table border=\"1\" class=\"dataframe\">\n",
       "  <thead>\n",
       "    <tr style=\"text-align: right;\">\n",
       "      <th></th>\n",
       "      <th>773869</th>\n",
       "      <th>767541</th>\n",
       "      <th>767542</th>\n",
       "      <th>717447</th>\n",
       "      <th>717446</th>\n",
       "      <th>717445</th>\n",
       "      <th>773062</th>\n",
       "      <th>767620</th>\n",
       "      <th>737529</th>\n",
       "      <th>717816</th>\n",
       "      <th>...</th>\n",
       "      <th>772167</th>\n",
       "      <th>769372</th>\n",
       "      <th>774204</th>\n",
       "      <th>769806</th>\n",
       "      <th>717590</th>\n",
       "      <th>717592</th>\n",
       "      <th>717595</th>\n",
       "      <th>772168</th>\n",
       "      <th>718141</th>\n",
       "      <th>769373</th>\n",
       "    </tr>\n",
       "  </thead>\n",
       "  <tbody>\n",
       "    <tr>\n",
       "      <th>0</th>\n",
       "      <td>64.375000</td>\n",
       "      <td>67.625000</td>\n",
       "      <td>67.125000</td>\n",
       "      <td>61.500000</td>\n",
       "      <td>66.875000</td>\n",
       "      <td>68.750000</td>\n",
       "      <td>65.125</td>\n",
       "      <td>67.125</td>\n",
       "      <td>59.625000</td>\n",
       "      <td>62.750000</td>\n",
       "      <td>...</td>\n",
       "      <td>45.625000</td>\n",
       "      <td>65.500</td>\n",
       "      <td>64.500000</td>\n",
       "      <td>66.428571</td>\n",
       "      <td>66.875</td>\n",
       "      <td>59.375000</td>\n",
       "      <td>69.000000</td>\n",
       "      <td>59.250000</td>\n",
       "      <td>69.000000</td>\n",
       "      <td>61.875</td>\n",
       "    </tr>\n",
       "    <tr>\n",
       "      <th>1</th>\n",
       "      <td>62.666667</td>\n",
       "      <td>68.555556</td>\n",
       "      <td>65.444444</td>\n",
       "      <td>62.444444</td>\n",
       "      <td>64.444444</td>\n",
       "      <td>68.111111</td>\n",
       "      <td>65.000</td>\n",
       "      <td>65.000</td>\n",
       "      <td>57.444444</td>\n",
       "      <td>63.333333</td>\n",
       "      <td>...</td>\n",
       "      <td>50.666667</td>\n",
       "      <td>69.875</td>\n",
       "      <td>66.666667</td>\n",
       "      <td>58.555556</td>\n",
       "      <td>62.000</td>\n",
       "      <td>61.111111</td>\n",
       "      <td>64.444444</td>\n",
       "      <td>55.888889</td>\n",
       "      <td>68.444444</td>\n",
       "      <td>62.875</td>\n",
       "    </tr>\n",
       "    <tr>\n",
       "      <th>2</th>\n",
       "      <td>64.000000</td>\n",
       "      <td>63.750000</td>\n",
       "      <td>60.000000</td>\n",
       "      <td>59.000000</td>\n",
       "      <td>66.500000</td>\n",
       "      <td>66.250000</td>\n",
       "      <td>64.500</td>\n",
       "      <td>64.250</td>\n",
       "      <td>63.875000</td>\n",
       "      <td>65.375000</td>\n",
       "      <td>...</td>\n",
       "      <td>44.125000</td>\n",
       "      <td>69.000</td>\n",
       "      <td>56.500000</td>\n",
       "      <td>59.250000</td>\n",
       "      <td>68.125</td>\n",
       "      <td>62.500000</td>\n",
       "      <td>65.625000</td>\n",
       "      <td>61.375000</td>\n",
       "      <td>69.857143</td>\n",
       "      <td>62.000</td>\n",
       "    </tr>\n",
       "    <tr>\n",
       "      <th>3</th>\n",
       "      <td>0.000000</td>\n",
       "      <td>0.000000</td>\n",
       "      <td>0.000000</td>\n",
       "      <td>0.000000</td>\n",
       "      <td>0.000000</td>\n",
       "      <td>0.000000</td>\n",
       "      <td>0.000</td>\n",
       "      <td>0.000</td>\n",
       "      <td>0.000000</td>\n",
       "      <td>0.000000</td>\n",
       "      <td>...</td>\n",
       "      <td>0.000000</td>\n",
       "      <td>0.000</td>\n",
       "      <td>0.000000</td>\n",
       "      <td>0.000000</td>\n",
       "      <td>0.000</td>\n",
       "      <td>0.000000</td>\n",
       "      <td>0.000000</td>\n",
       "      <td>0.000000</td>\n",
       "      <td>0.000000</td>\n",
       "      <td>0.000</td>\n",
       "    </tr>\n",
       "    <tr>\n",
       "      <th>4</th>\n",
       "      <td>0.000000</td>\n",
       "      <td>0.000000</td>\n",
       "      <td>0.000000</td>\n",
       "      <td>0.000000</td>\n",
       "      <td>0.000000</td>\n",
       "      <td>0.000000</td>\n",
       "      <td>0.000</td>\n",
       "      <td>0.000</td>\n",
       "      <td>0.000000</td>\n",
       "      <td>0.000000</td>\n",
       "      <td>...</td>\n",
       "      <td>0.000000</td>\n",
       "      <td>0.000</td>\n",
       "      <td>0.000000</td>\n",
       "      <td>0.000000</td>\n",
       "      <td>0.000</td>\n",
       "      <td>0.000000</td>\n",
       "      <td>0.000000</td>\n",
       "      <td>0.000000</td>\n",
       "      <td>0.000000</td>\n",
       "      <td>0.000</td>\n",
       "    </tr>\n",
       "  </tbody>\n",
       "</table>\n",
       "<p>5 rows × 207 columns</p>\n",
       "</div>"
      ],
      "text/plain": [
       "      773869     767541     767542     717447     717446     717445  773062  \\\n",
       "0  64.375000  67.625000  67.125000  61.500000  66.875000  68.750000  65.125   \n",
       "1  62.666667  68.555556  65.444444  62.444444  64.444444  68.111111  65.000   \n",
       "2  64.000000  63.750000  60.000000  59.000000  66.500000  66.250000  64.500   \n",
       "3   0.000000   0.000000   0.000000   0.000000   0.000000   0.000000   0.000   \n",
       "4   0.000000   0.000000   0.000000   0.000000   0.000000   0.000000   0.000   \n",
       "\n",
       "   767620     737529     717816  ...     772167  769372     774204     769806  \\\n",
       "0  67.125  59.625000  62.750000  ...  45.625000  65.500  64.500000  66.428571   \n",
       "1  65.000  57.444444  63.333333  ...  50.666667  69.875  66.666667  58.555556   \n",
       "2  64.250  63.875000  65.375000  ...  44.125000  69.000  56.500000  59.250000   \n",
       "3   0.000   0.000000   0.000000  ...   0.000000   0.000   0.000000   0.000000   \n",
       "4   0.000   0.000000   0.000000  ...   0.000000   0.000   0.000000   0.000000   \n",
       "\n",
       "   717590     717592     717595     772168     718141  769373  \n",
       "0  66.875  59.375000  69.000000  59.250000  69.000000  61.875  \n",
       "1  62.000  61.111111  64.444444  55.888889  68.444444  62.875  \n",
       "2  68.125  62.500000  65.625000  61.375000  69.857143  62.000  \n",
       "3   0.000   0.000000   0.000000   0.000000   0.000000   0.000  \n",
       "4   0.000   0.000000   0.000000   0.000000   0.000000   0.000  \n",
       "\n",
       "[5 rows x 207 columns]"
      ]
     },
     "execution_count": 92,
     "metadata": {},
     "output_type": "execute_result"
    }
   ],
   "source": [
    "df.head()"
   ]
  },
  {
   "cell_type": "markdown",
   "metadata": {},
   "source": [
    "### Step 1.1: Checking for Null Values"
   ]
  },
  {
   "cell_type": "code",
   "execution_count": 93,
   "metadata": {},
   "outputs": [
    {
     "name": "stdout",
     "output_type": "stream",
     "text": [
      "Checking for missing values...\n",
      "773869    0\n",
      "767541    0\n",
      "767542    0\n",
      "717447    0\n",
      "717446    0\n",
      "         ..\n",
      "717592    0\n",
      "717595    0\n",
      "772168    0\n",
      "718141    0\n",
      "769373    0\n",
      "Length: 207, dtype: int64\n"
     ]
    }
   ],
   "source": [
    "print(\"Checking for missing values...\")\n",
    "print(df.isnull().sum())"
   ]
  },
  {
   "cell_type": "markdown",
   "metadata": {},
   "source": [
    "### Step 1.2: Checking df Stats"
   ]
  },
  {
   "cell_type": "code",
   "execution_count": 94,
   "metadata": {},
   "outputs": [
    {
     "name": "stdout",
     "output_type": "stream",
     "text": [
      "\n",
      "Statistical summary:\n"
     ]
    },
    {
     "data": {
      "text/html": [
       "<div>\n",
       "<style scoped>\n",
       "    .dataframe tbody tr th:only-of-type {\n",
       "        vertical-align: middle;\n",
       "    }\n",
       "\n",
       "    .dataframe tbody tr th {\n",
       "        vertical-align: top;\n",
       "    }\n",
       "\n",
       "    .dataframe thead th {\n",
       "        text-align: right;\n",
       "    }\n",
       "</style>\n",
       "<table border=\"1\" class=\"dataframe\">\n",
       "  <thead>\n",
       "    <tr style=\"text-align: right;\">\n",
       "      <th></th>\n",
       "      <th>773869</th>\n",
       "      <th>767541</th>\n",
       "      <th>767542</th>\n",
       "      <th>717447</th>\n",
       "      <th>717446</th>\n",
       "      <th>717445</th>\n",
       "      <th>773062</th>\n",
       "      <th>767620</th>\n",
       "      <th>737529</th>\n",
       "      <th>717816</th>\n",
       "      <th>...</th>\n",
       "      <th>772167</th>\n",
       "      <th>769372</th>\n",
       "      <th>774204</th>\n",
       "      <th>769806</th>\n",
       "      <th>717590</th>\n",
       "      <th>717592</th>\n",
       "      <th>717595</th>\n",
       "      <th>772168</th>\n",
       "      <th>718141</th>\n",
       "      <th>769373</th>\n",
       "    </tr>\n",
       "  </thead>\n",
       "  <tbody>\n",
       "    <tr>\n",
       "      <th>count</th>\n",
       "      <td>34272.000000</td>\n",
       "      <td>34272.000000</td>\n",
       "      <td>34272.000000</td>\n",
       "      <td>34272.000000</td>\n",
       "      <td>34272.000000</td>\n",
       "      <td>34272.000000</td>\n",
       "      <td>34272.000000</td>\n",
       "      <td>34272.000000</td>\n",
       "      <td>34272.000000</td>\n",
       "      <td>34272.000000</td>\n",
       "      <td>...</td>\n",
       "      <td>34272.000000</td>\n",
       "      <td>34272.000000</td>\n",
       "      <td>34272.000000</td>\n",
       "      <td>34272.000000</td>\n",
       "      <td>34272.000000</td>\n",
       "      <td>34272.000000</td>\n",
       "      <td>34272.000000</td>\n",
       "      <td>34272.000000</td>\n",
       "      <td>34272.000000</td>\n",
       "      <td>34272.000000</td>\n",
       "    </tr>\n",
       "    <tr>\n",
       "      <th>mean</th>\n",
       "      <td>54.631359</td>\n",
       "      <td>60.452789</td>\n",
       "      <td>60.726120</td>\n",
       "      <td>49.524287</td>\n",
       "      <td>46.079798</td>\n",
       "      <td>50.952003</td>\n",
       "      <td>54.471684</td>\n",
       "      <td>57.255095</td>\n",
       "      <td>56.068044</td>\n",
       "      <td>52.871841</td>\n",
       "      <td>...</td>\n",
       "      <td>37.803342</td>\n",
       "      <td>58.156679</td>\n",
       "      <td>51.217523</td>\n",
       "      <td>59.795754</td>\n",
       "      <td>59.329923</td>\n",
       "      <td>56.915083</td>\n",
       "      <td>62.484679</td>\n",
       "      <td>54.697381</td>\n",
       "      <td>58.920210</td>\n",
       "      <td>51.197504</td>\n",
       "    </tr>\n",
       "    <tr>\n",
       "      <th>std</th>\n",
       "      <td>22.619199</td>\n",
       "      <td>15.970239</td>\n",
       "      <td>18.313353</td>\n",
       "      <td>15.843261</td>\n",
       "      <td>19.350345</td>\n",
       "      <td>16.681760</td>\n",
       "      <td>17.984761</td>\n",
       "      <td>18.751065</td>\n",
       "      <td>18.240361</td>\n",
       "      <td>23.343805</td>\n",
       "      <td>...</td>\n",
       "      <td>13.525743</td>\n",
       "      <td>20.690411</td>\n",
       "      <td>22.224997</td>\n",
       "      <td>16.126225</td>\n",
       "      <td>19.849950</td>\n",
       "      <td>18.260438</td>\n",
       "      <td>16.959238</td>\n",
       "      <td>16.303651</td>\n",
       "      <td>19.080474</td>\n",
       "      <td>21.239354</td>\n",
       "    </tr>\n",
       "    <tr>\n",
       "      <th>min</th>\n",
       "      <td>0.000000</td>\n",
       "      <td>0.000000</td>\n",
       "      <td>0.000000</td>\n",
       "      <td>0.000000</td>\n",
       "      <td>0.000000</td>\n",
       "      <td>0.000000</td>\n",
       "      <td>0.000000</td>\n",
       "      <td>0.000000</td>\n",
       "      <td>0.000000</td>\n",
       "      <td>0.000000</td>\n",
       "      <td>...</td>\n",
       "      <td>0.000000</td>\n",
       "      <td>0.000000</td>\n",
       "      <td>0.000000</td>\n",
       "      <td>0.000000</td>\n",
       "      <td>0.000000</td>\n",
       "      <td>0.000000</td>\n",
       "      <td>0.000000</td>\n",
       "      <td>0.000000</td>\n",
       "      <td>0.000000</td>\n",
       "      <td>0.000000</td>\n",
       "    </tr>\n",
       "    <tr>\n",
       "      <th>25%</th>\n",
       "      <td>60.364583</td>\n",
       "      <td>63.000000</td>\n",
       "      <td>65.444444</td>\n",
       "      <td>50.333333</td>\n",
       "      <td>34.666667</td>\n",
       "      <td>49.555556</td>\n",
       "      <td>55.750000</td>\n",
       "      <td>61.000000</td>\n",
       "      <td>58.222222</td>\n",
       "      <td>43.428571</td>\n",
       "      <td>...</td>\n",
       "      <td>30.444444</td>\n",
       "      <td>64.111111</td>\n",
       "      <td>53.444444</td>\n",
       "      <td>61.714286</td>\n",
       "      <td>63.666667</td>\n",
       "      <td>60.222222</td>\n",
       "      <td>65.888889</td>\n",
       "      <td>50.125000</td>\n",
       "      <td>62.888889</td>\n",
       "      <td>54.125000</td>\n",
       "    </tr>\n",
       "    <tr>\n",
       "      <th>50%</th>\n",
       "      <td>64.888889</td>\n",
       "      <td>65.000000</td>\n",
       "      <td>67.375000</td>\n",
       "      <td>53.875000</td>\n",
       "      <td>46.000000</td>\n",
       "      <td>56.111111</td>\n",
       "      <td>62.111111</td>\n",
       "      <td>63.333333</td>\n",
       "      <td>62.444444</td>\n",
       "      <td>65.875000</td>\n",
       "      <td>...</td>\n",
       "      <td>43.222222</td>\n",
       "      <td>67.111111</td>\n",
       "      <td>61.777778</td>\n",
       "      <td>64.875000</td>\n",
       "      <td>66.777778</td>\n",
       "      <td>63.000000</td>\n",
       "      <td>67.625000</td>\n",
       "      <td>61.125000</td>\n",
       "      <td>66.125000</td>\n",
       "      <td>62.000000</td>\n",
       "    </tr>\n",
       "    <tr>\n",
       "      <th>75%</th>\n",
       "      <td>66.875000</td>\n",
       "      <td>66.375000</td>\n",
       "      <td>68.444444</td>\n",
       "      <td>58.125000</td>\n",
       "      <td>64.500000</td>\n",
       "      <td>60.333333</td>\n",
       "      <td>65.000000</td>\n",
       "      <td>65.000000</td>\n",
       "      <td>64.888889</td>\n",
       "      <td>67.625000</td>\n",
       "      <td>...</td>\n",
       "      <td>46.625000</td>\n",
       "      <td>68.444444</td>\n",
       "      <td>64.375000</td>\n",
       "      <td>66.500000</td>\n",
       "      <td>68.250000</td>\n",
       "      <td>64.750000</td>\n",
       "      <td>68.625000</td>\n",
       "      <td>64.444444</td>\n",
       "      <td>67.750000</td>\n",
       "      <td>63.444444</td>\n",
       "    </tr>\n",
       "    <tr>\n",
       "      <th>max</th>\n",
       "      <td>70.000000</td>\n",
       "      <td>70.000000</td>\n",
       "      <td>70.000000</td>\n",
       "      <td>70.000000</td>\n",
       "      <td>70.000000</td>\n",
       "      <td>70.000000</td>\n",
       "      <td>70.000000</td>\n",
       "      <td>70.000000</td>\n",
       "      <td>70.000000</td>\n",
       "      <td>70.000000</td>\n",
       "      <td>...</td>\n",
       "      <td>65.000000</td>\n",
       "      <td>70.000000</td>\n",
       "      <td>70.000000</td>\n",
       "      <td>70.000000</td>\n",
       "      <td>70.000000</td>\n",
       "      <td>70.000000</td>\n",
       "      <td>70.000000</td>\n",
       "      <td>70.000000</td>\n",
       "      <td>70.000000</td>\n",
       "      <td>70.000000</td>\n",
       "    </tr>\n",
       "  </tbody>\n",
       "</table>\n",
       "<p>8 rows × 207 columns</p>\n",
       "</div>"
      ],
      "text/plain": [
       "             773869        767541        767542        717447        717446  \\\n",
       "count  34272.000000  34272.000000  34272.000000  34272.000000  34272.000000   \n",
       "mean      54.631359     60.452789     60.726120     49.524287     46.079798   \n",
       "std       22.619199     15.970239     18.313353     15.843261     19.350345   \n",
       "min        0.000000      0.000000      0.000000      0.000000      0.000000   \n",
       "25%       60.364583     63.000000     65.444444     50.333333     34.666667   \n",
       "50%       64.888889     65.000000     67.375000     53.875000     46.000000   \n",
       "75%       66.875000     66.375000     68.444444     58.125000     64.500000   \n",
       "max       70.000000     70.000000     70.000000     70.000000     70.000000   \n",
       "\n",
       "             717445        773062        767620        737529        717816  \\\n",
       "count  34272.000000  34272.000000  34272.000000  34272.000000  34272.000000   \n",
       "mean      50.952003     54.471684     57.255095     56.068044     52.871841   \n",
       "std       16.681760     17.984761     18.751065     18.240361     23.343805   \n",
       "min        0.000000      0.000000      0.000000      0.000000      0.000000   \n",
       "25%       49.555556     55.750000     61.000000     58.222222     43.428571   \n",
       "50%       56.111111     62.111111     63.333333     62.444444     65.875000   \n",
       "75%       60.333333     65.000000     65.000000     64.888889     67.625000   \n",
       "max       70.000000     70.000000     70.000000     70.000000     70.000000   \n",
       "\n",
       "       ...        772167        769372        774204        769806  \\\n",
       "count  ...  34272.000000  34272.000000  34272.000000  34272.000000   \n",
       "mean   ...     37.803342     58.156679     51.217523     59.795754   \n",
       "std    ...     13.525743     20.690411     22.224997     16.126225   \n",
       "min    ...      0.000000      0.000000      0.000000      0.000000   \n",
       "25%    ...     30.444444     64.111111     53.444444     61.714286   \n",
       "50%    ...     43.222222     67.111111     61.777778     64.875000   \n",
       "75%    ...     46.625000     68.444444     64.375000     66.500000   \n",
       "max    ...     65.000000     70.000000     70.000000     70.000000   \n",
       "\n",
       "             717590        717592        717595        772168        718141  \\\n",
       "count  34272.000000  34272.000000  34272.000000  34272.000000  34272.000000   \n",
       "mean      59.329923     56.915083     62.484679     54.697381     58.920210   \n",
       "std       19.849950     18.260438     16.959238     16.303651     19.080474   \n",
       "min        0.000000      0.000000      0.000000      0.000000      0.000000   \n",
       "25%       63.666667     60.222222     65.888889     50.125000     62.888889   \n",
       "50%       66.777778     63.000000     67.625000     61.125000     66.125000   \n",
       "75%       68.250000     64.750000     68.625000     64.444444     67.750000   \n",
       "max       70.000000     70.000000     70.000000     70.000000     70.000000   \n",
       "\n",
       "             769373  \n",
       "count  34272.000000  \n",
       "mean      51.197504  \n",
       "std       21.239354  \n",
       "min        0.000000  \n",
       "25%       54.125000  \n",
       "50%       62.000000  \n",
       "75%       63.444444  \n",
       "max       70.000000  \n",
       "\n",
       "[8 rows x 207 columns]"
      ]
     },
     "execution_count": 94,
     "metadata": {},
     "output_type": "execute_result"
    }
   ],
   "source": [
    "print(\"\\nStatistical summary:\")\n",
    "df.describe()"
   ]
  },
  {
   "cell_type": "markdown",
   "metadata": {},
   "source": [
    "## Step 2: Data Preprocessing"
   ]
  },
  {
   "cell_type": "markdown",
   "metadata": {},
   "source": [
    "### Step 2.1: Feature Engineering (BEFORE THE PROCESSING)"
   ]
  },
  {
   "cell_type": "code",
   "execution_count": 95,
   "metadata": {},
   "outputs": [
    {
     "name": "stdout",
     "output_type": "stream",
     "text": [
      "Data shape after feature engineering: (34270, 621)\n"
     ]
    }
   ],
   "source": [
    "# Feature Engineering (optimized to avoid fragmentation)\n",
    "def feature_engineering(df):\n",
    "    # Compute rolling mean and std for each sensor at once using apply\n",
    "    rolling_means = df.rolling(window=3).mean().add_suffix('_rolling_mean')\n",
    "    rolling_stds = df.rolling(window=3).std().add_suffix('_rolling_std')\n",
    "\n",
    "    # Combine the original dataframe with the new rolling features\n",
    "    df_combined = pd.concat([df, rolling_means, rolling_stds], axis=1)\n",
    "\n",
    "    # Drop NaN values that were introduced by the rolling window\n",
    "    df_combined = df_combined.dropna()\n",
    "\n",
    "    return df_combined\n",
    "\n",
    "# Apply feature engineering\n",
    "df = feature_engineering(df)\n",
    "\n",
    "# Check the updated dataframe\n",
    "print(f\"Data shape after feature engineering: {df.shape}\")\n"
   ]
  },
  {
   "cell_type": "markdown",
   "metadata": {},
   "source": [
    "### Step 2.2: Using MinMaxScaler to Preprocess Data "
   ]
  },
  {
   "cell_type": "code",
   "execution_count": 96,
   "metadata": {},
   "outputs": [],
   "source": [
    "def preprocess_data(data):\n",
    "    scaler = MinMaxScaler()\n",
    "    data_scaled = scaler.fit_transform(data)\n",
    "    return data_scaled, scaler"
   ]
  },
  {
   "cell_type": "code",
   "execution_count": 97,
   "metadata": {},
   "outputs": [],
   "source": [
    "# Apply preprocessing to the entire feature-engineered dataset\n",
    "data_scaled, scaler = preprocess_data(df.values)"
   ]
  },
  {
   "cell_type": "markdown",
   "metadata": {},
   "source": [
    "## Step 3: Create Sequences for Time-Series Forecasting"
   ]
  },
  {
   "cell_type": "code",
   "execution_count": 98,
   "metadata": {},
   "outputs": [
    {
     "name": "stdout",
     "output_type": "stream",
     "text": [
      "X_train shape: (27408, 10, 621), y_train shape: (27408, 1)\n",
      "X_test shape: (6852, 10, 621), y_test shape: (6852, 1)\n"
     ]
    }
   ],
   "source": [
    "import numpy as np\n",
    "from sklearn.preprocessing import MinMaxScaler\n",
    "\n",
    "# Step 2: Create sequences from the scaled data\n",
    "def create_sequences(data, time_steps=10):\n",
    "    X, y = [], []\n",
    "    for i in range(len(data) - time_steps):\n",
    "        X.append(data[i:i + time_steps])  # Sequence of features\n",
    "        y.append(data[i + time_steps, 0])  # Predict the next value for the first feature\n",
    "    return np.array(X), np.array(y)\n",
    "\n",
    "# Apply preprocessing and sequence creation\n",
    "data_scaled, scaler = preprocess_data(df.values)\n",
    "X, y = create_sequences(data_scaled, time_steps=10)\n",
    "\n",
    "# Step 3: Split into train and test\n",
    "train_size = int(len(X) * 0.8)\n",
    "X_train, X_test = X[:train_size], X[train_size:]\n",
    "y_train, y_test = y[:train_size], y[train_size:]\n",
    "\n",
    "# Ensure y_train and y_test are 2D arrays\n",
    "y_train = y_train.reshape(-1, 1)\n",
    "y_test = y_test.reshape(-1, 1)\n",
    "\n",
    "# Check the shapes\n",
    "print(f\"X_train shape: {X_train.shape}, y_train shape: {y_train.shape}\")\n",
    "print(f\"X_test shape: {X_test.shape}, y_test shape: {y_test.shape}\")\n"
   ]
  },
  {
   "cell_type": "markdown",
   "metadata": {},
   "source": [
    "## Step 4: Save the Preprocessed Data (Pickle)"
   ]
  },
  {
   "cell_type": "code",
   "execution_count": 99,
   "metadata": {},
   "outputs": [
    {
     "data": {
      "text/plain": [
       "['preprocessed_data.pkl']"
      ]
     },
     "execution_count": 99,
     "metadata": {},
     "output_type": "execute_result"
    }
   ],
   "source": [
    "joblib.dump((X, y), 'preprocessed_data.pkl')"
   ]
  },
  {
   "cell_type": "code",
   "execution_count": 100,
   "metadata": {},
   "outputs": [
    {
     "name": "stdout",
     "output_type": "stream",
     "text": [
      "2.9.0\n"
     ]
    }
   ],
   "source": [
    "import kfp\n",
    "\n",
    "print(kfp.__version__)\n"
   ]
  },
  {
   "cell_type": "markdown",
   "metadata": {},
   "source": [
    "## Step 5: Building LSTM & GRU"
   ]
  },
  {
   "cell_type": "markdown",
   "metadata": {},
   "source": [
    "### Step 5.1: LSTM Model Architecture\n",
    "##### Just for reference. Model being built in `train_LSTM.py`"
   ]
  },
  {
   "cell_type": "code",
   "execution_count": 49,
   "metadata": {},
   "outputs": [],
   "source": [
    "def build_lstm_model(input_shape):\n",
    "    model = Sequential()\n",
    "    model.add(LSTM(64, input_shape=input_shape, return_sequences=True))\n",
    "    model.add(LSTM(32))\n",
    "    model.add(Dense(y_train.shape[1]))  \n",
    "    model.compile(optimizer='adam', loss='mse', metrics=['mae'])\n",
    "    return model"
   ]
  },
  {
   "cell_type": "markdown",
   "metadata": {},
   "source": [
    "### Step 5.1: GRU Model Architecture\n",
    "##### Just for reference. Model being built in `train_GRU.py`"
   ]
  },
  {
   "cell_type": "code",
   "execution_count": 50,
   "metadata": {},
   "outputs": [],
   "source": [
    "def build_gru_model(input_shape):\n",
    "    model = Sequential()\n",
    "    model.add(GRU(64, input_shape=input_shape, return_sequences=True))\n",
    "    model.add(GRU(32))\n",
    "    model.add(Dense(y_train.shape[1]))  \n",
    "    model.compile(optimizer='adam', loss='mse', metrics=['mae'])\n",
    "    return model"
   ]
  },
  {
   "cell_type": "markdown",
   "metadata": {},
   "source": [
    "## Step 6: Train LSTM & GRU"
   ]
  },
  {
   "cell_type": "markdown",
   "metadata": {},
   "source": [
    "The LSTM and GRU models are trained using Kubeflow, and the metrics (MAE, MSE) are logged. \n",
    "Training is executed via two scripts:\n",
    "- `train_LSTM.py` for LSTM model training.\n",
    "- `train_GRU.py` for GRU model training.\n",
    "\n",
    "The Kubeflow pipeline executes these scripts and tracks the results."
   ]
  },
  {
   "cell_type": "markdown",
   "metadata": {},
   "source": [
    "## Step: 7: Results from Kubeflow"
   ]
  },
  {
   "cell_type": "code",
   "execution_count": null,
   "metadata": {},
   "outputs": [],
   "source": [
    "# Assuming you load the Kubeflow logs and metrics back into the notebook\n",
    "lstm_mae = 2.34  # Example values loaded from Kubeflow logs\n",
    "gru_mae = 2.56\n",
    "\n",
    "\n",
    "models = ['LSTM', 'GRU']\n",
    "mae_values = [lstm_mae, gru_mae]\n",
    "\n",
    "plt.bar(models, mae_values)\n",
    "plt.title('Model MAE Comparison')\n",
    "plt.ylabel('MAE')\n",
    "plt.show()\n"
   ]
  }
 ],
 "metadata": {
  "kernelspec": {
   "display_name": "OpAI_VM",
   "language": "python",
   "name": "python3"
  },
  "language_info": {
   "codemirror_mode": {
    "name": "ipython",
    "version": 3
   },
   "file_extension": ".py",
   "mimetype": "text/x-python",
   "name": "python",
   "nbconvert_exporter": "python",
   "pygments_lexer": "ipython3",
   "version": "3.12.4"
  }
 },
 "nbformat": 4,
 "nbformat_minor": 2
}
